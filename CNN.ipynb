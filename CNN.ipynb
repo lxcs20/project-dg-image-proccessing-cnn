{
 "cells": [
  {
   "cell_type": "code",
   "execution_count": null,
   "metadata": {},
   "outputs": [],
   "source": []
  },
  {
   "cell_type": "code",
   "execution_count": 2,
   "metadata": {},
   "outputs": [],
   "source": [
    "from keras.models import Sequential\n",
    "from keras.layers import Flatten, Dense\n",
    "from sklearn.model_selection import train_test_split\n",
    "import cv2\n",
    "import matplotlib.pyplot as plt\n",
    "import numpy as np\n",
    "import pandas as pd\n",
    "import os\n",
    "\n",
    "import tensorflow as tf\n",
    "from tensorflow import keras\n",
    "from tensorflow.keras import layers\n",
    "from keras.layers import Dense, Conv2D, MaxPooling2D, Dropout, Flatten"
   ]
  },
  {
   "cell_type": "code",
   "execution_count": 3,
   "metadata": {},
   "outputs": [
    {
     "name": "stdout",
     "output_type": "stream",
     "text": [
      "number of image:  1440\n",
      "number of label:  1440\n"
     ]
    }
   ],
   "source": [
    "floders = os.listdir(\"charecter\")\n",
    "array = []\n",
    "count = 0\n",
    "for floder in floders:\n",
    "    for i in range(0, 30):\n",
    "        path = \"charecter/\" + floder + \"/\"+ str(i) +\".png\"\n",
    "        img = cv2.imread(path)\n",
    "        gray = cv2.cvtColor(img, cv2.COLOR_BGR2GRAY)\n",
    "        array.append(gray)\n",
    "        count = count + 1\n",
    "\n",
    "\n",
    "print(\"number of image: \", count)\n",
    "\n",
    "#Label\n",
    "label = []\n",
    "countlabel = 0\n",
    "for j in range(0, 48):\n",
    "    for i in range(0, 30):\n",
    "        label.append(i)\n",
    "        countlabel = countlabel + 1\n",
    "\n",
    "print(\"number of label: \", countlabel)"
   ]
  },
  {
   "cell_type": "code",
   "execution_count": 4,
   "metadata": {},
   "outputs": [
    {
     "name": "stdout",
     "output_type": "stream",
     "text": [
      "X train:  (1152, 32, 32)\n",
      "y train:  (1152,)\n",
      "X test:  (288, 32, 32)\n",
      "y test:  (288,)\n"
     ]
    }
   ],
   "source": [
    "x = np.asarray(array)\n",
    "y = np.asarray(label)\n",
    "\n",
    "xTrain, xTest, yTrain, yTest = train_test_split(x, y , test_size = 0.2, random_state = 42)\n",
    "\n",
    "print(\"X train: \", xTrain.shape)\n",
    "print(\"y train: \", yTrain.shape)\n",
    "print(\"X test: \", xTest.shape)\n",
    "print(\"y test: \", yTest.shape)\n",
    "\n",
    "xTain = xTrain.astype('float32') / 255.0\n",
    "xTest = xTest.astype('float32') / 255.0"
   ]
  },
  {
   "cell_type": "code",
   "execution_count": 5,
   "metadata": {},
   "outputs": [
    {
     "name": "stdout",
     "output_type": "stream",
     "text": [
      "Model: \"sequential\"\n",
      "_________________________________________________________________\n",
      " Layer (type)                Output Shape              Param #   \n",
      "=================================================================\n",
      " conv2d (Conv2D)             (None, 32, 32, 32)        832       \n",
      "                                                                 \n",
      " conv2d_1 (Conv2D)           (None, 30, 30, 64)        18496     \n",
      "                                                                 \n",
      " max_pooling2d (MaxPooling2D  (None, 15, 15, 64)       0         \n",
      " )                                                               \n",
      "                                                                 \n",
      " conv2d_2 (Conv2D)           (None, 13, 13, 64)        36928     \n",
      "                                                                 \n",
      " flatten (Flatten)           (None, 10816)             0         \n",
      "                                                                 \n",
      " dropout (Dropout)           (None, 10816)             0         \n",
      "                                                                 \n",
      " dense (Dense)               (None, 30)                324510    \n",
      "                                                                 \n",
      "=================================================================\n",
      "Total params: 380,766\n",
      "Trainable params: 380,766\n",
      "Non-trainable params: 0\n",
      "_________________________________________________________________\n"
     ]
    }
   ],
   "source": [
    "model = Sequential()\n",
    "\n",
    "model.add(Conv2D(32, (5, 5), padding='same', activation='relu', input_shape = (32,32,1)))\n",
    "model.add(Conv2D(64, (3, 3), activation='relu'))\n",
    "model.add(MaxPooling2D(pool_size=(2, 2)))\n",
    "model.add(Conv2D(64, (3, 3), activation='relu'))\n",
    "model.add(Flatten())\n",
    "model.add(Dropout(0.25))\n",
    "model.add(Dense(30, activation='softmax'))\n",
    "model.summary()\n",
    "# Compile the model\n",
    "model.compile(optimizer='adam',\n",
    "              loss='sparse_categorical_crossentropy',\n",
    "              metrics=['accuracy'])"
   ]
  },
  {
   "cell_type": "code",
   "execution_count": 6,
   "metadata": {},
   "outputs": [
    {
     "name": "stdout",
     "output_type": "stream",
     "text": [
      "Epoch 1/20\n",
      "36/36 [==============================] - 3s 82ms/step - loss: 9.8772 - accuracy: 0.4479\n",
      "Epoch 2/20\n",
      "36/36 [==============================] - 3s 74ms/step - loss: 0.3056 - accuracy: 0.9089\n",
      "Epoch 3/20\n",
      "36/36 [==============================] - 3s 73ms/step - loss: 0.1277 - accuracy: 0.9583\n",
      "Epoch 4/20\n",
      "36/36 [==============================] - 2s 68ms/step - loss: 0.0917 - accuracy: 0.9705\n",
      "Epoch 5/20\n",
      "36/36 [==============================] - 2s 66ms/step - loss: 0.0372 - accuracy: 0.9870\n",
      "Epoch 6/20\n",
      "36/36 [==============================] - 2s 67ms/step - loss: 0.0239 - accuracy: 0.9939\n",
      "Epoch 7/20\n",
      "36/36 [==============================] - 2s 65ms/step - loss: 0.0124 - accuracy: 0.9957\n",
      "Epoch 8/20\n",
      "36/36 [==============================] - 2s 64ms/step - loss: 0.0134 - accuracy: 0.9948\n",
      "Epoch 9/20\n",
      "36/36 [==============================] - 2s 64ms/step - loss: 0.0271 - accuracy: 0.9913\n",
      "Epoch 10/20\n",
      "36/36 [==============================] - 2s 64ms/step - loss: 0.0325 - accuracy: 0.9887\n",
      "Epoch 11/20\n",
      "36/36 [==============================] - 3s 74ms/step - loss: 0.0278 - accuracy: 0.9922\n",
      "Epoch 12/20\n",
      "36/36 [==============================] - 3s 74ms/step - loss: 0.0231 - accuracy: 0.9922\n",
      "Epoch 13/20\n",
      "36/36 [==============================] - 3s 72ms/step - loss: 0.0265 - accuracy: 0.9939\n",
      "Epoch 14/20\n",
      "36/36 [==============================] - 3s 72ms/step - loss: 0.0157 - accuracy: 0.9931\n",
      "Epoch 15/20\n",
      "36/36 [==============================] - 3s 72ms/step - loss: 0.0527 - accuracy: 0.9878\n",
      "Epoch 16/20\n",
      "36/36 [==============================] - 3s 76ms/step - loss: 0.0220 - accuracy: 0.9922\n",
      "Epoch 17/20\n",
      "36/36 [==============================] - 3s 75ms/step - loss: 0.0056 - accuracy: 0.9983\n",
      "Epoch 18/20\n",
      "36/36 [==============================] - 3s 72ms/step - loss: 0.0343 - accuracy: 0.9905\n",
      "Epoch 19/20\n",
      "36/36 [==============================] - 3s 71ms/step - loss: 0.0074 - accuracy: 0.9983\n",
      "Epoch 20/20\n",
      "36/36 [==============================] - 3s 72ms/step - loss: 0.0037 - accuracy: 0.9991\n",
      "9/9 [==============================] - 0s 11ms/step - loss: 3.2587 - accuracy: 0.9757\n"
     ]
    },
    {
     "data": {
      "text/plain": [
       "[3.258723258972168, 0.9756944179534912]"
      ]
     },
     "execution_count": 6,
     "metadata": {},
     "output_type": "execute_result"
    }
   ],
   "source": [
    "# Train the model\n",
    "#no batch_size\n",
    "model.fit(xTrain, yTrain, epochs=20)\n",
    "model.evaluate(xTest, yTest)"
   ]
  },
  {
   "cell_type": "code",
   "execution_count": 28,
   "metadata": {},
   "outputs": [
    {
     "name": "stdout",
     "output_type": "stream",
     "text": [
      "9/9 [==============================] - 0s 11ms/step\n"
     ]
    }
   ],
   "source": [
    "predict = model.predict(xTest)"
   ]
  },
  {
   "cell_type": "code",
   "execution_count": 18,
   "metadata": {},
   "outputs": [],
   "source": [
    "from sklearn.metrics import confusion_matrix\n",
    "from sklearn.metrics import plot_confusion_matrix\n",
    "from sklearn.metrics import accuracy_score"
   ]
  },
  {
   "cell_type": "code",
   "execution_count": 29,
   "metadata": {},
   "outputs": [
    {
     "name": "stdout",
     "output_type": "stream",
     "text": [
      "accuracy: 0.9791666666666666\n"
     ]
    }
   ],
   "source": [
    "#np.argmax(predict[0])\n",
    "a = []\n",
    "\n",
    "for i in predict:\n",
    "    list(i)\n",
    "    arg = np.argmax(i)\n",
    "    a.append(arg)\n",
    "print(\"accuracy: {}\".format(accuracy_score(yTest, a)))"
   ]
  },
  {
   "cell_type": "code",
   "execution_count": 30,
   "metadata": {},
   "outputs": [
    {
     "data": {
      "image/png": "[encoded data removed]",
      "text/plain": [
       "<Figure size 1080x1080 with 2 Axes>"
      ]
     },
     "metadata": {
      "needs_background": "light"
     },
     "output_type": "display_data"
    }
   ],
   "source": [
    "import seaborn as sns\n",
    "\n",
    "confu = confusion_matrix(yTest, a)\n",
    "la = [\"ກ\", \"ຂ\", \"ຄ\", \"ງ\", \"ຈ\", \"ສ\", \"ຊ\", \"ຍ\", \"ດ\", \"ຕ\", \"ຖ\", \"ທ\", \"ນ\", \"ບ\", \"ປ\", \"ຜ\",\n",
    " \"ຝ\", \"ພ\", \"ຟ\", \"ມ\",\"ຢ\", \"ຣ\", \"ລ\", \"ວ\", \"ຫ\", \"ອ\", \"ຮ\", \"ໜ\", \"ໝ\", \"ຫຼ\"]\n",
    "conf_matrix = confu\n",
    "\n",
    "fig, ax = plt.subplots(figsize=(15,15)) \n",
    "sns.heatmap(conf_matrix, annot=True, fmt='d', cmap='Reds', xticklabels= la, yticklabels = la, ax = ax)\n",
    "plt.xlabel(\"Predicted\")\n",
    "plt.ylabel(\"True\")\n",
    "plt.title(\"Confusion Matrix of CNN\")\n",
    "\n",
    "\n",
    "plt.show()"
   ]
  },
  {
   "cell_type": "code",
   "execution_count": null,
   "metadata": {},
   "outputs": [],
   "source": []
  }
 ],
 "metadata": {
  "kernelspec": {
   "display_name": "Python 3.9.12 ('base')",
   "language": "python",
   "name": "python3"
  },
  "language_info": {
   "codemirror_mode": {
    "name": "ipython",
    "version": 3
   },
   "file_extension": ".py",
   "mimetype": "text/x-python",
   "name": "python",
   "nbconvert_exporter": "python",
   "pygments_lexer": "ipython3",
   "version": "3.9.12"
  },
  "orig_nbformat": 4,
  "vscode": {
   "interpreter": {
    "hash": "dc07d24e2f18896857f0b2a651fe84ba40ce7b297e58d8804a308c8039f752a6"
   }
  }
 },
 "nbformat": 4,
 "nbformat_minor": 2
}
