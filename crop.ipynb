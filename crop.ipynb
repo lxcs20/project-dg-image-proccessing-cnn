{
 "cells": [
  {
   "cell_type": "code",
   "execution_count": 1,
   "metadata": {},
   "outputs": [],
   "source": [
    "from skimage.transform import resize\n",
    "import matplotlib.pyplot as plt\n",
    "import cv2\n",
    "import numpy as np\n",
    "import os"
   ]
  },
  {
   "cell_type": "code",
   "execution_count": 3,
   "metadata": {},
   "outputs": [],
   "source": [
    "#rename picture file\n",
    "picture = os.listdir(\"picture\")\n",
    "total = 0\n",
    "for j in picture:\n",
    "    scr = \"picture/\" + str(j)\n",
    "    name = \"picture/\" + str(total) + \".png\"\n",
    "    os.rename(scr, name)\n",
    "    total = total + 1"
   ]
  },
  {
   "cell_type": "code",
   "execution_count": 4,
   "metadata": {},
   "outputs": [
    {
     "data": {
      "text/plain": [
       "['0.png',\n",
       " '1.png',\n",
       " '10.png',\n",
       " '11.png',\n",
       " '12.png',\n",
       " '13.png',\n",
       " '14.png',\n",
       " '15.png',\n",
       " '16.png',\n",
       " '17.png']"
      ]
     },
     "execution_count": 4,
     "metadata": {},
     "output_type": "execute_result"
    }
   ],
   "source": [
    "picture = os.listdir(\"picture\")\n",
    "picture[:10]"
   ]
  },
  {
   "cell_type": "code",
   "execution_count": 8,
   "metadata": {},
   "outputs": [
    {
     "data": {
      "text/plain": [
       "' for i in range(int(len(picture))):\\n    os.mkdir(\\'charecter/charecters\\' + str(i))\\n\\nfloderj = os.listdir(\"charecter\") '"
      ]
     },
     "execution_count": 8,
     "metadata": {},
     "output_type": "execute_result"
    }
   ],
   "source": [
    "#Create directory\n",
    "\"\"\" for i in range(int(len(picture))):\n",
    "    os.mkdir('charecter/charecters' + str(i))\n",
    "\n",
    "floderj = os.listdir(\"charecter\") \"\"\""
   ]
  },
  {
   "cell_type": "code",
   "execution_count": 5,
   "metadata": {},
   "outputs": [
    {
     "data": {
      "text/plain": [
       "1440"
      ]
     },
     "execution_count": 5,
     "metadata": {},
     "output_type": "execute_result"
    }
   ],
   "source": [
    "count = 0\n",
    "image = []\n",
    "for i in picture:\n",
    "    img = cv2.imread(os.path.join('picture', i))\n",
    "    orim = img.copy()\n",
    "    gray = cv2.cvtColor(img, cv2.COLOR_BGR2GRAY)\n",
    "    \n",
    "    #detect edge and find contours\n",
    "    imCanny = cv2.Canny(gray, 20,200)\n",
    "    contours, _ = cv2.findContours(imCanny, cv2.RETR_EXTERNAL, cv2.CHAIN_APPROX_SIMPLE)\n",
    "    \n",
    "    #first rectangle fill\n",
    "    for cnt in contours:\n",
    "        x,y,w,h = cv2.boundingRect(cnt)\n",
    "        cv2.rectangle(img,(x,y),(x+w,y+h),(0,255,0),-1)\n",
    "    \n",
    "    #second detect edge and crop image\n",
    "    nimg = img\n",
    "    ncanny = cv2.Canny(nimg, 20, 200)\n",
    "    ncont, _ = cv2.findContours(ncanny, cv2.RETR_EXTERNAL, cv2.CHAIN_APPROX_SIMPLE)\n",
    "    \n",
    "    floder = 'charecter/charecters' + str(count) + '/'\n",
    "    no = 0\n",
    "    \n",
    "    for cnt in ncont:        \n",
    "        #name = laChar[no]\n",
    "        x,y,w,h = cv2.boundingRect(cnt)\n",
    "        #cv2.rectangle(orim,(x,y),(x+w,y+h),(0,255,0),1)\n",
    "        pic = orim[y:y+h,x:x+w]\n",
    "        #resize image\n",
    "        pic = resize(pic, (32,32))\n",
    "        path = floder + \"/\" + str(no) + \".png\"\n",
    "        plt.imsave(path, pic)\n",
    "        image.append(pic)\n",
    "        if no > 30:\n",
    "            no = 0\n",
    "        no = no + 1\n",
    "    count = count + 1\n",
    "\n",
    "len(image)"
   ]
  },
  {
   "cell_type": "code",
   "execution_count": 6,
   "metadata": {},
   "outputs": [
    {
     "data": {
      "image/png": "[encoded data removed]",
      "text/plain": [
       "<Figure size 432x288 with 1 Axes>"
      ]
     },
     "metadata": {
      "needs_background": "light"
     },
     "output_type": "display_data"
    }
   ],
   "source": [
    "n = 1210\n",
    "show = np.asarray(image[n])\n",
    "plt.imshow(show)\n",
    "plt.imsave(\"m.png\", show)"
   ]
  },
  {
   "cell_type": "code",
   "execution_count": null,
   "metadata": {},
   "outputs": [],
   "source": []
  }
 ],
 "metadata": {
  "kernelspec": {
   "display_name": "Python 3.9.12 ('base')",
   "language": "python",
   "name": "python3"
  },
  "language_info": {
   "codemirror_mode": {
    "name": "ipython",
    "version": 3
   },
   "file_extension": ".py",
   "mimetype": "text/x-python",
   "name": "python",
   "nbconvert_exporter": "python",
   "pygments_lexer": "ipython3",
   "version": "3.9.12"
  },
  "orig_nbformat": 4,
  "vscode": {
   "interpreter": {
    "hash": "dc07d24e2f18896857f0b2a651fe84ba40ce7b297e58d8804a308c8039f752a6"
   }
  }
 },
 "nbformat": 4,
 "nbformat_minor": 2
}
