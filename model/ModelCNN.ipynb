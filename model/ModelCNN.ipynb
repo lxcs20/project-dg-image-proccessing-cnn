{
 "cells": [
  {
   "cell_type": "code",
   "execution_count": null,
   "metadata": {},
   "outputs": [],
   "source": []
  },
  {
   "cell_type": "code",
   "execution_count": 2,
   "metadata": {},
   "outputs": [],
   "source": [
    "from keras.models import Sequential\n",
    "from keras.layers import Flatten, Dense\n",
    "from sklearn.model_selection import train_test_split\n",
    "import cv2\n",
    "import matplotlib.pyplot as plt\n",
    "import numpy as np\n",
    "import pandas as pd\n",
    "import os\n",
    "\n",
    "import tensorflow as tf\n",
    "from tensorflow import keras\n",
    "from tensorflow.keras import layers"
   ]
  },
  {
   "cell_type": "code",
   "execution_count": 3,
   "metadata": {},
   "outputs": [
    {
     "name": "stdout",
     "output_type": "stream",
     "text": [
      "number of image:  1440\n"
     ]
    }
   ],
   "source": [
    "floders = os.listdir(\"charecter\")\n",
    "array = []\n",
    "count = 0\n",
    "for floder in floders:\n",
    "    for i in range(0, 30):\n",
    "        path = \"charecter/\" + floder + \"/\"+ str(i) +\".png\"\n",
    "        img = cv2.imread(path)\n",
    "        gray = cv2.cvtColor(img, cv2.COLOR_BGR2GRAY)\n",
    "        array.append(gray)\n",
    "        count = count + 1\n",
    "\n",
    "\n",
    "print(\"number of image: \", count)\n",
    "\n"
   ]
  },
  {
   "cell_type": "code",
   "execution_count": 4,
   "metadata": {},
   "outputs": [
    {
     "name": "stdout",
     "output_type": "stream",
     "text": [
      "number of label:  1440\n"
     ]
    }
   ],
   "source": [
    "#Label\n",
    "label = []\n",
    "countlabel = 0\n",
    "for j in range(0, 48):\n",
    "    for i in range(0, 30):\n",
    "        label.append(i)\n",
    "        countlabel = countlabel + 1\n",
    "\n",
    "print(\"number of label: \", countlabel)"
   ]
  },
  {
   "cell_type": "code",
   "execution_count": 5,
   "metadata": {},
   "outputs": [
    {
     "name": "stdout",
     "output_type": "stream",
     "text": [
      "X train:  (1152, 32, 32)\n",
      "y train:  (1152,)\n",
      "X test:  (288, 32, 32)\n",
      "y test:  (288,)\n"
     ]
    }
   ],
   "source": [
    "x = np.asarray(array)\n",
    "y = np.asarray(label)\n",
    "\n",
    "xTrain, xTest, yTrain, yTest = train_test_split(x, y , test_size = 0.2, random_state = 42)\n",
    "\n",
    "print(\"X train: \", xTrain.shape)\n",
    "print(\"y train: \", yTrain.shape)\n",
    "print(\"X test: \", xTest.shape)\n",
    "print(\"y test: \", yTest.shape)\n",
    "\n",
    "xTain = xTrain.astype('float32') / 255.0\n",
    "xTest = xTest.astype('float32') / 255.0"
   ]
  },
  {
   "cell_type": "code",
   "execution_count": 38,
   "metadata": {},
   "outputs": [
    {
     "name": "stdout",
     "output_type": "stream",
     "text": [
      "Model: \"sequential_5\"\n",
      "_________________________________________________________________\n",
      " Layer (type)                Output Shape              Param #   \n",
      "=================================================================\n",
      " conv2d_16 (Conv2D)          (None, 28, 28, 64)        1664      \n",
      "                                                                 \n",
      " max_pooling2d_16 (MaxPoolin  (None, 14, 14, 64)       0         \n",
      " g2D)                                                            \n",
      "                                                                 \n",
      " conv2d_17 (Conv2D)          (None, 12, 12, 128)       73856     \n",
      "                                                                 \n",
      " max_pooling2d_17 (MaxPoolin  (None, 6, 6, 128)        0         \n",
      " g2D)                                                            \n",
      "                                                                 \n",
      " flatten_5 (Flatten)         (None, 4608)              0         \n",
      "                                                                 \n",
      " dropout_8 (Dropout)         (None, 4608)              0         \n",
      "                                                                 \n",
      " dense_5 (Dense)             (None, 30)                138270    \n",
      "                                                                 \n",
      "=================================================================\n",
      "Total params: 213,790\n",
      "Trainable params: 213,790\n",
      "Non-trainable params: 0\n",
      "_________________________________________________________________\n"
     ]
    }
   ],
   "source": [
    "model = keras.Sequential([\n",
    "    keras.Input(shape=(32, 32, 1)),\n",
    "    layers.Conv2D(64, kernel_size=(5, 5), activation='relu'),\n",
    "    layers.MaxPooling2D(pool_size=(2, 2)),\n",
    "    layers.Conv2D(128, kernel_size=(3, 3), activation='relu'),\n",
    "    layers.MaxPooling2D(pool_size=(2, 2)),   \n",
    "    layers.Flatten(),\n",
    "    layers.Dropout(0.2),\n",
    "    layers.Dense(30, activation='softmax')\n",
    "])\n",
    "model.summary()\n",
    "# Compile the model\n",
    "model.compile(optimizer='adam',\n",
    "              loss='sparse_categorical_crossentropy',\n",
    "              metrics=['accuracy'])"
   ]
  },
  {
   "cell_type": "code",
   "execution_count": 39,
   "metadata": {},
   "outputs": [
    {
     "name": "stdout",
     "output_type": "stream",
     "text": [
      "Epoch 1/20\n",
      "36/36 [==============================] - 2s 31ms/step - loss: 13.8540 - accuracy: 0.2882\n",
      "Epoch 2/20\n",
      "36/36 [==============================] - 1s 30ms/step - loss: 0.5749 - accuracy: 0.8082\n",
      "Epoch 3/20\n",
      "36/36 [==============================] - 1s 30ms/step - loss: 0.2458 - accuracy: 0.9175\n",
      "Epoch 4/20\n",
      "36/36 [==============================] - 1s 31ms/step - loss: 0.1146 - accuracy: 0.9635\n",
      "Epoch 5/20\n",
      "36/36 [==============================] - 1s 31ms/step - loss: 0.1138 - accuracy: 0.9740\n",
      "Epoch 6/20\n",
      "36/36 [==============================] - 1s 29ms/step - loss: 0.1287 - accuracy: 0.9583\n",
      "Epoch 7/20\n",
      "36/36 [==============================] - 1s 29ms/step - loss: 0.0506 - accuracy: 0.9792\n",
      "Epoch 8/20\n",
      "36/36 [==============================] - 1s 28ms/step - loss: 0.0383 - accuracy: 0.9844\n",
      "Epoch 9/20\n",
      "36/36 [==============================] - 1s 26ms/step - loss: 0.0396 - accuracy: 0.9844\n",
      "Epoch 10/20\n",
      "36/36 [==============================] - 1s 26ms/step - loss: 0.0322 - accuracy: 0.9887\n",
      "Epoch 11/20\n",
      "36/36 [==============================] - 1s 25ms/step - loss: 0.0198 - accuracy: 0.9948\n",
      "Epoch 12/20\n",
      "36/36 [==============================] - 1s 25ms/step - loss: 0.0137 - accuracy: 0.9948\n",
      "Epoch 13/20\n",
      "36/36 [==============================] - 1s 25ms/step - loss: 0.0292 - accuracy: 0.9905\n",
      "Epoch 14/20\n",
      "36/36 [==============================] - 1s 25ms/step - loss: 0.0217 - accuracy: 0.9922\n",
      "Epoch 15/20\n",
      "36/36 [==============================] - 1s 25ms/step - loss: 0.0075 - accuracy: 0.9983\n",
      "Epoch 16/20\n",
      "36/36 [==============================] - 1s 27ms/step - loss: 0.0086 - accuracy: 0.9957\n",
      "Epoch 17/20\n",
      "36/36 [==============================] - 1s 26ms/step - loss: 0.0183 - accuracy: 0.9965\n",
      "Epoch 18/20\n",
      "36/36 [==============================] - 1s 27ms/step - loss: 0.0158 - accuracy: 0.9957\n",
      "Epoch 19/20\n",
      "36/36 [==============================] - 1s 28ms/step - loss: 0.0223 - accuracy: 0.9939\n",
      "Epoch 20/20\n",
      "36/36 [==============================] - 1s 28ms/step - loss: 0.0420 - accuracy: 0.9887\n"
     ]
    },
    {
     "data": {
      "text/plain": [
       "<keras.callbacks.History at 0x264568a7d00>"
      ]
     },
     "execution_count": 39,
     "metadata": {},
     "output_type": "execute_result"
    }
   ],
   "source": [
    "# Train the model\n",
    "#no batch_size\n",
    "model.fit(xTrain, yTrain, epochs=20)"
   ]
  },
  {
   "cell_type": "code",
   "execution_count": 40,
   "metadata": {},
   "outputs": [
    {
     "name": "stdout",
     "output_type": "stream",
     "text": [
      "9/9 [==============================] - 0s 13ms/step - loss: 3.2845 - accuracy: 0.9826\n"
     ]
    },
    {
     "data": {
      "text/plain": [
       "[3.284492254257202, 0.9826388955116272]"
      ]
     },
     "execution_count": 40,
     "metadata": {},
     "output_type": "execute_result"
    }
   ],
   "source": [
    "model.evaluate(xTest, yTest)\n"
   ]
  },
  {
   "cell_type": "code",
   "execution_count": 28,
   "metadata": {},
   "outputs": [
    {
     "name": "stdout",
     "output_type": "stream",
     "text": [
      "9/9 [==============================] - 0s 14ms/step\n"
     ]
    }
   ],
   "source": [
    "predict = model.predict(xTest)\n"
   ]
  },
  {
   "cell_type": "code",
   "execution_count": 29,
   "metadata": {},
   "outputs": [
    {
     "name": "stdout",
     "output_type": "stream",
     "text": [
      "20\n"
     ]
    },
    {
     "data": {
      "text/plain": [
       "<matplotlib.image.AxesImage at 0x26454c48910>"
      ]
     },
     "execution_count": 29,
     "metadata": {},
     "output_type": "execute_result"
    },
    {
     "data": {
      "image/png": "[encoded data removed]",
      "text/plain": [
       "<Figure size 432x288 with 1 Axes>"
      ]
     },
     "metadata": {
      "needs_background": "light"
     },
     "output_type": "display_data"
    }
   ],
   "source": [
    "n = 190\n",
    "print(np.argmax(predict[n]))\n",
    "plt.imshow(xTest[n], cmap = 'gray')"
   ]
  },
  {
   "cell_type": "code",
   "execution_count": null,
   "metadata": {},
   "outputs": [],
   "source": []
  },
  {
   "cell_type": "code",
   "execution_count": 30,
   "metadata": {},
   "outputs": [],
   "source": [
    "from sklearn.metrics import confusion_matrix\n",
    "from sklearn.metrics import plot_confusion_matrix\n",
    "from sklearn.metrics import accuracy_score"
   ]
  },
  {
   "cell_type": "code",
   "execution_count": 31,
   "metadata": {},
   "outputs": [
    {
     "name": "stdout",
     "output_type": "stream",
     "text": [
      "accuracy: 0.9236111111111112\n"
     ]
    }
   ],
   "source": [
    "#np.argmax(predict[0])\n",
    "a = []\n",
    "\n",
    "for i in predict:\n",
    "    list(i)\n",
    "    arg = np.argmax(i)\n",
    "    a.append(arg)\n",
    "print(\"accuracy: {}\".format(accuracy_score(yTest, a)))"
   ]
  },
  {
   "cell_type": "code",
   "execution_count": 32,
   "metadata": {},
   "outputs": [
    {
     "data": {
      "image/png": "[encoded data removed]",
      "text/plain": [
       "<Figure size 432x288 with 2 Axes>"
      ]
     },
     "metadata": {
      "needs_background": "light"
     },
     "output_type": "display_data"
    },
    {
     "data": {
      "text/plain": [
       "<Figure size 1440x1440 with 0 Axes>"
      ]
     },
     "metadata": {},
     "output_type": "display_data"
    }
   ],
   "source": [
    "import seaborn as sns\n",
    "\n",
    "confu = confusion_matrix(yTest, a)\n",
    "la = [\"ກ\", \"ຂ\", \"ຄ\", \"ງ\", \"ຈ\", \"ສ\", \"ຊ\", \"ຍ\", \"ດ\", \"ຕ\", \"ຖ\", \"ທ\", \"ນ\", \"ບ\", \"ປ\", \"ຜ\",\n",
    " \"ຝ\", \"ພ\", \"ຟ\", \"ມ\",\"ຢ\", \"ຣ\", \"ລ\", \"ວ\", \"ຫ\", \"ອ\", \"ຮ\", \"ໜ\", \"ໝ\", \"ຫຼ\"]\n",
    "conf_matrix = confu\n",
    "\n",
    "sns.heatmap(conf_matrix, annot=True, fmt='d', cmap='Reds', xticklabels= la, yticklabels = la)\n",
    "plt.xlabel(\"Predicted\")\n",
    "plt.ylabel(\"True\")\n",
    "plt.title(\"Confusion Matrix of CNN\")\n",
    "\n",
    "\n",
    "plt.figure(figsize = (20, 20))\n",
    "\n",
    "plt.show()\n"
   ]
  },
  {
   "cell_type": "code",
   "execution_count": null,
   "metadata": {},
   "outputs": [],
   "source": []
  },
  {
   "cell_type": "code",
   "execution_count": 33,
   "metadata": {},
   "outputs": [
    {
     "data": {
      "text/plain": [
       "<matplotlib.image.AxesImage at 0x264555737f0>"
      ]
     },
     "execution_count": 33,
     "metadata": {},
     "output_type": "execute_result"
    },
    {
     "data": {
      "image/png": "[encoded data removed]",
      "text/plain": [
       "<Figure size 432x288 with 1 Axes>"
      ]
     },
     "metadata": {
      "needs_background": "light"
     },
     "output_type": "display_data"
    }
   ],
   "source": [
    "pimg  = cv2.imread(\"ex3.png\")\n",
    "pgray = cv2.cvtColor(pimg, cv2.COLOR_BGR2GRAY)\n",
    "#gray = gray[:200][:200]\n",
    "plt.imshow(pgray, cmap='gray')"
   ]
  },
  {
   "cell_type": "code",
   "execution_count": 34,
   "metadata": {},
   "outputs": [
    {
     "data": {
      "text/plain": [
       "<matplotlib.image.AxesImage at 0x264554f9550>"
      ]
     },
     "execution_count": 34,
     "metadata": {},
     "output_type": "execute_result"
    },
    {
     "data": {
      "image/png": "[encoded data removed]",
      "text/plain": [
       "<Figure size 432x288 with 1 Axes>"
      ]
     },
     "metadata": {
      "needs_background": "light"
     },
     "output_type": "display_data"
    }
   ],
   "source": [
    "#ret, binary = cv2.threshold(gray, 180, 255, 0)\n",
    "#plt.imshow(binary, cmap = 'gray')\n",
    "\n",
    "pcanny = cv2.Canny(pimg, 50,200)\n",
    "#ret, binary = cv2.threshold(gray, 180, 255, 0)\n",
    "pconts, phierarchy = cv2.findContours(pcanny, cv2.RETR_EXTERNAL, cv2.CHAIN_APPROX_SIMPLE)\n",
    "pimg2 = pimg.copy()\n",
    "\n",
    "for pcont in pconts:\n",
    "    px,py,pw,ph = cv2.boundingRect(pcont)\n",
    "    cv2.rectangle(pimg2,(px,py),(px+pw,py+ph),(0,255,0),-1)\n",
    "\n",
    "\n",
    "#imgray = cv2.cvtColor(img2, cv2.COLOR_BGR2GRAY)\n",
    "#ret, thresh = cv2.threshold(imgray, 80, 200, 0)\n",
    "pcan = cv2.Canny(pimg2, 20, 200)\n",
    "pcontours, p_hierarchy = cv2.findContours(pcan, cv2.RETR_EXTERNAL, cv2.CHAIN_APPROX_SIMPLE)\n",
    "\n",
    "pcrop = []\n",
    "for pcnt in pcontours:\n",
    "    px,py,pw,ph = cv2.boundingRect(pcnt)\n",
    "    #cv2.rectangle(img,(x,y),(x+w+1,y+h+1),(0,255,0),1)\n",
    "    ppic = list(pgray[py-1:py+ph+1,px-1:px+pw+1])\n",
    "    pcrop.append(ppic)\n",
    "\n",
    "plt.imshow(pimg2)"
   ]
  },
  {
   "cell_type": "code",
   "execution_count": 35,
   "metadata": {},
   "outputs": [
    {
     "data": {
      "image/png": "[encoded data removed]",
      "text/plain": [
       "<Figure size 432x288 with 5 Axes>"
      ]
     },
     "metadata": {
      "needs_background": "light"
     },
     "output_type": "display_data"
    }
   ],
   "source": [
    "from skimage.transform import resize\n",
    "\n",
    "\n",
    "crop32 = []\n",
    "for i in pcrop:\n",
    "    # Load the image array\n",
    "    image = np.asarray(i)\n",
    "    # Define the desired new shape\n",
    "    new_shape = (32, 32)\n",
    "    # Resize the image array\n",
    "    new = resize(image, new_shape)\n",
    "    crop32.append(list(new))\n",
    "\n",
    "\n",
    "#plt.imshow(resized_image)\n",
    "for i in range(int(len(crop32))):\n",
    "    plt.subplot(6, 6, i+1)\n",
    "    array = np.array(crop32[i])\n",
    "    plt.imshow(array, cmap = 'gray')\n",
    "\n",
    "plt.show()"
   ]
  },
  {
   "cell_type": "code",
   "execution_count": 36,
   "metadata": {},
   "outputs": [
    {
     "name": "stdout",
     "output_type": "stream",
     "text": [
      "1/1 [==============================] - 0s 127ms/step\n"
     ]
    },
    {
     "data": {
      "text/plain": [
       "5"
      ]
     },
     "execution_count": 36,
     "metadata": {},
     "output_type": "execute_result"
    }
   ],
   "source": [
    "data = np.asarray(crop32)\n",
    "len(data)\n",
    "pred = model.predict(data)\n",
    "len(pred)"
   ]
  },
  {
   "cell_type": "code",
   "execution_count": 37,
   "metadata": {},
   "outputs": [
    {
     "data": {
      "image/png": "[encoded data removed]",
      "text/plain": [
       "<Figure size 432x288 with 5 Axes>"
      ]
     },
     "metadata": {
      "needs_background": "light"
     },
     "output_type": "display_data"
    },
    {
     "name": "stdout",
     "output_type": "stream",
     "text": [
      "['ວ', 'ງ', 'ສ', 'ກ', 'ຢ']\n",
      "[23, 3, 5, 0, 20]\n"
     ]
    }
   ],
   "source": [
    "la = [\"ກ\", \"ຂ\", \"ຄ\", \"ງ\", \"ຈ\", \"ສ\", \"ຊ\", \"ຍ\", \"ດ\", \"ຕ\", \"ຖ\", \"ທ\", \"ນ\", \"ບ\", \"ປ\", \"ຜ\",\n",
    " \"ຝ\", \"ພ\", \"ຟ\", \"ມ\",\"ຢ\", \"ຣ\", \"ລ\", \"ວ\", \"ຫ\", \"ອ\", \"ຮ\", \"ໜ\", \"ໝ\", \"ຫຼ\"]\n",
    "rlabel = []\n",
    "re = []\n",
    "for j in pred:\n",
    "    a = np.argmax(j)\n",
    "    re.append(a)\n",
    "    rlabel.append(la[a])\n",
    "\n",
    "for i in range(int(len(crop32))):\n",
    "    plt.subplot(6, 6, i+1)\n",
    "    array = np.array(crop32[i])\n",
    "    plt.imshow(array)\n",
    "\n",
    "plt.show()\n",
    "\n",
    "print(rlabel)\n",
    "print(re)"
   ]
  },
  {
   "cell_type": "code",
   "execution_count": 41,
   "metadata": {},
   "outputs": [
    {
     "name": "stderr",
     "output_type": "stream",
     "text": [
      "WARNING:absl:Found untraced functions such as _jit_compiled_convolution_op, _jit_compiled_convolution_op while saving (showing 2 of 2). These functions will not be directly callable after loading.\n"
     ]
    },
    {
     "name": "stdout",
     "output_type": "stream",
     "text": [
      "INFO:tensorflow:Assets written to: model/ac9826\\assets\n"
     ]
    },
    {
     "name": "stderr",
     "output_type": "stream",
     "text": [
      "INFO:tensorflow:Assets written to: model/ac9826\\assets\n"
     ]
    }
   ],
   "source": [
    "model.save(\"model/ac9826\")"
   ]
  },
  {
   "cell_type": "code",
   "execution_count": null,
   "metadata": {},
   "outputs": [],
   "source": []
  },
  {
   "cell_type": "code",
   "execution_count": null,
   "metadata": {},
   "outputs": [],
   "source": []
  },
  {
   "cell_type": "code",
   "execution_count": null,
   "metadata": {},
   "outputs": [],
   "source": []
  },
  {
   "cell_type": "code",
   "execution_count": null,
   "metadata": {},
   "outputs": [],
   "source": []
  },
  {
   "cell_type": "code",
   "execution_count": 20,
   "metadata": {},
   "outputs": [
    {
     "data": {
      "text/plain": [
       "' \\nconf_matrix = confu\\n\\nla = [\"ກ\", \"ຂ\", \"ຄ\", \"ງ\", \"ຈ\", \"ສ\", \"ຊ\", \"ຍ\", \"ດ\", \"ຕ\", \"ຖ\", \"ທ\", \"ນ\", \"ບ\", \"ປ\", \"ຜ\",\\n \"ຝ\", \"ພ\", \"ຟ\", \"ມ\",\"ຢ\", \"ຣ\", \"ລ\", \"ວ\", \"ຫ\", \"ອ\", \"ຮ\", \"ໜ\", \"ໝ\", \"ຫຼ\", \"ໆ\", \"ຯ\"]\\n\\nm = plt.matshow(conf_matrix, cmap=plt.cm.Reds)\\nplt.colorbar()\\nplt.xlabel(\"Predicted label\")\\nplt.ylabel(\"True label\")\\n#plt.xticks(x, la)\\n#plt.xticks(y, la)\\n\\n\\n# Add the value in each cell\\nfor i in range(conf_matrix.shape[0]):\\n    for j in range(conf_matrix.shape[1]):\\n        plt.text(x=j, y=i, s=conf_matrix[i, j], va=\\'center\\', ha=\\'center\\')\\n\\nplt.figure(figsize=(30, 30))\\nplt.show() '"
      ]
     },
     "execution_count": 20,
     "metadata": {},
     "output_type": "execute_result"
    }
   ],
   "source": [
    "\"\"\" \n",
    "conf_matrix = confu\n",
    "\n",
    "la = [\"ກ\", \"ຂ\", \"ຄ\", \"ງ\", \"ຈ\", \"ສ\", \"ຊ\", \"ຍ\", \"ດ\", \"ຕ\", \"ຖ\", \"ທ\", \"ນ\", \"ບ\", \"ປ\", \"ຜ\",\n",
    " \"ຝ\", \"ພ\", \"ຟ\", \"ມ\",\"ຢ\", \"ຣ\", \"ລ\", \"ວ\", \"ຫ\", \"ອ\", \"ຮ\", \"ໜ\", \"ໝ\", \"ຫຼ\", \"ໆ\", \"ຯ\"]\n",
    "\n",
    "m = plt.matshow(conf_matrix, cmap=plt.cm.Reds)\n",
    "plt.colorbar()\n",
    "plt.xlabel(\"Predicted label\")\n",
    "plt.ylabel(\"True label\")\n",
    "#plt.xticks(x, la)\n",
    "#plt.xticks(y, la)\n",
    "\n",
    "\n",
    "# Add the value in each cell\n",
    "for i in range(conf_matrix.shape[0]):\n",
    "    for j in range(conf_matrix.shape[1]):\n",
    "        plt.text(x=j, y=i, s=conf_matrix[i, j], va='center', ha='center')\n",
    "\n",
    "plt.figure(figsize=(30, 30))\n",
    "plt.show() \"\"\"\n"
   ]
  },
  {
   "cell_type": "code",
   "execution_count": null,
   "metadata": {},
   "outputs": [],
   "source": []
  },
  {
   "cell_type": "markdown",
   "metadata": {},
   "source": []
  },
  {
   "cell_type": "code",
   "execution_count": null,
   "metadata": {},
   "outputs": [],
   "source": []
  },
  {
   "cell_type": "code",
   "execution_count": null,
   "metadata": {},
   "outputs": [],
   "source": []
  },
  {
   "cell_type": "code",
   "execution_count": null,
   "metadata": {},
   "outputs": [],
   "source": [
    " \n"
   ]
  },
  {
   "cell_type": "code",
   "execution_count": null,
   "metadata": {},
   "outputs": [],
   "source": []
  },
  {
   "cell_type": "code",
   "execution_count": null,
   "metadata": {},
   "outputs": [],
   "source": []
  }
 ],
 "metadata": {
  "kernelspec": {
   "display_name": "Python 3.9.12 ('base')",
   "language": "python",
   "name": "python3"
  },
  "language_info": {
   "codemirror_mode": {
    "name": "ipython",
    "version": 3
   },
   "file_extension": ".py",
   "mimetype": "text/x-python",
   "name": "python",
   "nbconvert_exporter": "python",
   "pygments_lexer": "ipython3",
   "version": "3.9.12"
  },
  "orig_nbformat": 4,
  "vscode": {
   "interpreter": {
    "hash": "dc07d24e2f18896857f0b2a651fe84ba40ce7b297e58d8804a308c8039f752a6"
   }
  }
 },
 "nbformat": 4,
 "nbformat_minor": 2
}
